{
 "cells": [
  {
   "cell_type": "code",
   "execution_count": 1,
   "id": "f3a4549c",
   "metadata": {},
   "outputs": [],
   "source": [
    "from splinter import Browser\n",
    "from bs4 import BeautifulSoup as soup\n",
    "from webdriver_manager.chrome import ChromeDriverManager\n",
    "import json"
   ]
  },
  {
   "cell_type": "code",
   "execution_count": 2,
   "id": "265bcd7d",
   "metadata": {},
   "outputs": [],
   "source": [
    "# Set up Splinter\n",
    "executable_path = {'executable_path': ChromeDriverManager().install()}\n",
    "browser = Browser('chrome', **executable_path, headless=False)"
   ]
  },
  {
   "cell_type": "code",
   "execution_count": 3,
   "id": "a15b0d92",
   "metadata": {},
   "outputs": [],
   "source": [
    "# Visit the MARS Planet Science page to Scrape site\n",
    "url = 'http://redplanetscience.com/'\n",
    "browser.visit(url)"
   ]
  },
  {
   "cell_type": "code",
   "execution_count": 4,
   "id": "4cb636ac",
   "metadata": {},
   "outputs": [
    {
     "data": {
      "text/plain": [
       "[{'title': \"NASA's New Mars Rover Will Use X-Rays to Hunt Fossils\",\n",
       "  'preview': \"PIXL, an instrument on the end of the Perseverance rover's arm, will search for chemical fingerprints left by ancient microbes.\"},\n",
       " {'title': 'Mars Is Getting a New Robotic Meteorologist',\n",
       "  'preview': \"Sensors on NASA's Perseverance will help prepare for future human exploration by taking weather measurements and studying dust particles.\"},\n",
       " {'title': \"NASA's Perseverance Rover Is Midway to Mars\",\n",
       "  'preview': \"Sometimes half measures can be a good thing – especially on a journey this long. The agency's latest rover only has about 146 million miles left to reach its destination.\"},\n",
       " {'title': \"5 Hidden Gems Are Riding Aboard NASA's Perseverance Rover\",\n",
       "  'preview': \"The symbols, mottos, and small objects added to the agency's newest Mars rover serve a variety of purposes, from functional to decorative.\"},\n",
       " {'title': \"NASA's Mars 2020 Rover Tests Descent-Stage Separation\",\n",
       "  'preview': \"A crane lifts the rocket-powered descent stage away from NASA's Mars 2020 rover after technicians tested the pyrotechnic charges that separate the two spacecraft.\"},\n",
       " {'title': \"NASA's Curiosity Keeps Rolling As Team Operates Rover From Home\",\n",
       "  'preview': 'The team has learned to meet new challenges as they work remotely on the Mars mission.'},\n",
       " {'title': 'NASA Adds Return Sample Scientists to Mars 2020 Leadership Team',\n",
       "  'preview': 'The leadership council for Mars 2020 science added two new members who represent the interests of scientists destined to handle and study the first samples from Red Planet.'},\n",
       " {'title': \"NASA-JPL Names 'Rolling Stones Rock' on Mars\",\n",
       "  'preview': \"NASA's Mars InSight mission honored one of the biggest bands of all time at Pasadena concert.\"},\n",
       " {'title': \"NASA's Mars Rover Drivers Need Your Help\",\n",
       "  'preview': 'Using an online tool to label Martian terrain types, you can train an artificial intelligence algorithm that could improve the way engineers guide the Curiosity rover.'},\n",
       " {'title': 'Global Storms on Mars Launch Dust Towers Into the Sky',\n",
       "  'preview': 'A Mars Dust Tower Stands Out Dust storms are common on Mars. But every decade or so, something unpredictable happens: a series of runaway storms break out, covering the entire planet in a dusty haze.'},\n",
       " {'title': \"Virginia Middle School Student Earns Honor of Naming NASA's Next Mars Rover\",\n",
       "  'preview': 'NASA chose a seventh-grader from Virginia as winner of the agency\\'s \"Name the Rover\" essay contest. Alexander Mather\\'s entry for \"Perseverance\" was voted tops among 28,000 entries.'},\n",
       " {'title': \"NASA's Perseverance Rover Bringing 3D-Printed Metal Parts to Mars\",\n",
       "  'preview': \"For hobbyists and makers, 3D printing expands creative possibilities; for specialized engineers, it's also key to next-generation spacecraft design.\"},\n",
       " {'title': 'MAVEN Maps Electric Currents around Mars that are Fundamental to Atmospheric Loss',\n",
       "  'preview': 'Five years after NASA’s MAVEN spacecraft entered into orbit around Mars, data from the mission has led to the creation of a map of electric current systems in the Martian atmosphere.'},\n",
       " {'title': \"Follow NASA's Perseverance Rover in Real Time on Its Way to Mars\",\n",
       "  'preview': \"A crisply rendered web application can show you where the agency's Mars 2020 mission is right now as it makes its way to the Red Planet for a Feb. 18, 2021, landing.\"},\n",
       " {'title': \"How NASA's Mars Helicopter Will Reach the Red Planet's Surface\",\n",
       "  'preview': 'The small craft will seek to prove that powered, controlled flight is possible on another planet. But just getting it onto the surface of Mars will take a whole lot of ingenuity.'}]"
      ]
     },
     "execution_count": 4,
     "metadata": {},
     "output_type": "execute_result"
    }
   ],
   "source": [
    "# scrape title and preview text\n",
    "\n",
    "articles = []\n",
    "article_length = len(browser.find_by_css('div.content_title'))\n",
    "for a in range(article_length):\n",
    "    xpath_title = f'//*[@id=\"news\"]/div[{a+1}]/div/div[2]/div/div[2]'\n",
    "    xpath_preview = f'//*[@id=\"news\"]/div[{a+1}]/div/div[2]/div/div[3]'\n",
    "#     print(browser.find_by_xpath(xpath_title).text)\n",
    "    title = (browser.find_by_xpath(xpath_title).text)\n",
    "    preview = (browser.find_by_xpath(xpath_preview).text)\n",
    "    \n",
    "    \n",
    "    articles_dict = {}\n",
    "    articles_dict[\"title\"] = title\n",
    "    articles_dict[\"preview\"] = preview\n",
    "    articles.append(articles_dict)\n",
    "articles"
   ]
  },
  {
   "cell_type": "code",
   "execution_count": 5,
   "id": "9de3bc07",
   "metadata": {},
   "outputs": [],
   "source": [
    "with open(\"deliverable1.json\", \"w\") as final:\n",
    "    json.dump(articles, final, indent=2)"
   ]
  },
  {
   "cell_type": "code",
   "execution_count": 6,
   "id": "71c5089e",
   "metadata": {},
   "outputs": [],
   "source": [
    "# //*[@id=\"news\"]/div[1]/div/div[2]/div/div[2]\n",
    "# //*[@id=\"news\"]/div[2]/div/div[2]/div/div[2]\n"
   ]
  },
  {
   "cell_type": "code",
   "execution_count": 7,
   "id": "bd650986",
   "metadata": {},
   "outputs": [],
   "source": [
    "# //*[@id=\"news\"]/div[1]/div/div[2]/div/div[3]\n",
    "# //*[@id=\"news\"]/div[2]/div/div[2]/div/div[3]"
   ]
  },
  {
   "cell_type": "code",
   "execution_count": 8,
   "id": "faf25a6e",
   "metadata": {},
   "outputs": [],
   "source": [
    "# /html/body/div/div/section[2]/div/div[2]/div/div[2]/div/div[3]"
   ]
  },
  {
   "cell_type": "code",
   "execution_count": 9,
   "id": "baefd131",
   "metadata": {},
   "outputs": [],
   "source": [
    "# Parse the HTML\n",
    "html = browser.html\n",
    "html_soup = soup(html, 'html.parser')"
   ]
  },
  {
   "cell_type": "code",
   "execution_count": 10,
   "id": "177a044b",
   "metadata": {},
   "outputs": [],
   "source": [
    "# # Scrape the Title of each article\n",
    "# content_title = html_soup.find('div class=\"content_title\"')\n",
    "# content_title\n",
    "# # title = div class.text\n",
    "# # print(div class)\n",
    "# # print(title)\n",
    "\n",
    "\n",
    "\n",
    "# # h2 = html_soup.find('h2')\n",
    "# # title = h2.text\n",
    "# # print(h2)\n",
    "# # print(title)"
   ]
  },
  {
   "cell_type": "code",
   "execution_count": 11,
   "id": "3a8753f8",
   "metadata": {},
   "outputs": [],
   "source": [
    "# # Scrape the preview/summary text of each article\n",
    "# content_title = html_soup.find('div', class_='content_title')\n",
    "# # tag_box\n",
    "# content_titles = content_title.find_all('a', class_='titles')\n",
    "\n",
    "# for title in titles:\n",
    "#     word = title.text\n",
    "#     print(word)"
   ]
  },
  {
   "cell_type": "code",
   "execution_count": null,
   "id": "6916bb01",
   "metadata": {},
   "outputs": [],
   "source": []
  }
 ],
 "metadata": {
  "kernelspec": {
   "display_name": "PythonData",
   "language": "python",
   "name": "pythondata"
  },
  "language_info": {
   "codemirror_mode": {
    "name": "ipython",
    "version": 3
   },
   "file_extension": ".py",
   "mimetype": "text/x-python",
   "name": "python",
   "nbconvert_exporter": "python",
   "pygments_lexer": "ipython3",
   "version": "3.7.13"
  }
 },
 "nbformat": 4,
 "nbformat_minor": 5
}
